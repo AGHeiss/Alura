{
 "cells": [
  {
   "cell_type": "code",
   "execution_count": 40,
   "metadata": {},
   "outputs": [],
   "source": [
    "import numpy as np\n",
    "import os"
   ]
  },
  {
   "cell_type": "markdown",
   "metadata": {},
   "source": [
    "1 - Imprima a frase: Python na Escola de Programação da Alura."
   ]
  },
  {
   "cell_type": "code",
   "execution_count": 41,
   "metadata": {},
   "outputs": [
    {
     "name": "stdout",
     "output_type": "stream",
     "text": [
      "Python na Escola de Programação da Alura\n"
     ]
    }
   ],
   "source": [
    "print('Python na Escola de Programação da Alura')"
   ]
  },
  {
   "cell_type": "markdown",
   "metadata": {},
   "source": [
    "2 - Imprima a frase: \"Meu nome é {nome} e tenho {idade} anos\" em que nome e idade precisam ser valores armazenados em variáveis."
   ]
  },
  {
   "cell_type": "code",
   "execution_count": 42,
   "metadata": {},
   "outputs": [
    {
     "name": "stdout",
     "output_type": "stream",
     "text": [
      "Meu nome é Max e tenho 26 anos.\n"
     ]
    }
   ],
   "source": [
    "nome = \"Max\"\n",
    "idade = 26\n",
    "print(f'Meu nome é {nome} e tenho {idade} anos.')"
   ]
  },
  {
   "cell_type": "markdown",
   "metadata": {},
   "source": [
    "3 - Imprima a palavra: ‘ALURA’ de modo que cada letra fique em uma linha\n"
   ]
  },
  {
   "cell_type": "code",
   "execution_count": 43,
   "metadata": {},
   "outputs": [
    {
     "name": "stdout",
     "output_type": "stream",
     "text": [
      "A\n",
      "L\n",
      "U\n",
      "R\n",
      "A\n"
     ]
    }
   ],
   "source": [
    "print(\"\"\"A\n",
    "L\n",
    "U\n",
    "R\n",
    "A\"\"\")"
   ]
  },
  {
   "cell_type": "markdown",
   "metadata": {},
   "source": [
    "4 - Imprima a frase: \"O valor arredondado de pi é: {pi_arredondado}\" em que o valor de pi precisa ser armazenado em uma variável e arredondado para apenas duas casas decimais."
   ]
  },
  {
   "cell_type": "code",
   "execution_count": 44,
   "metadata": {},
   "outputs": [
    {
     "name": "stdout",
     "output_type": "stream",
     "text": [
      "3.141592653589793\n",
      "O valor arredondado de pi é: 3.14.\n",
      "O valor arredondado de pi é: 3.14.\n"
     ]
    }
   ],
   "source": [
    "pi = np.pi\n",
    "print(pi)\n",
    "pi_arredondado = round(pi, 2)\n",
    "print(f'O valor arredondado de pi é: {pi_arredondado}.')\n",
    "print(f'O valor arredondado de pi é: {pi:.2f}.')"
   ]
  },
  {
   "cell_type": "markdown",
   "metadata": {},
   "source": [
    "5 - Solicite ao usuário que insira um número e, em seguida, use uma estrutura \"if else\" para determinar se o número é par ou ímpar."
   ]
  },
  {
   "cell_type": "code",
   "execution_count": 45,
   "metadata": {},
   "outputs": [
    {
     "name": "stdout",
     "output_type": "stream",
     "text": [
      "O número 1 é impar.\n"
     ]
    }
   ],
   "source": [
    "numero = int(input(\"Digite um número: \"))\n",
    "if numero % 2 == 0:\n",
    "    print(f'O número {numero} é par')\n",
    "else:\n",
    "    print(f'O número {numero} é impar.')"
   ]
  },
  {
   "cell_type": "markdown",
   "metadata": {},
   "source": [
    "6 - Pergunte ao usuário sua idade e, com base nisso, use uma estrutura \"if elif else\" para classificar a idade em categorias de acordo com as seguintes condições:\n",
    "\n",
    "Criança: 0 a 12 anos;\n",
    "Adolescente: 13 a 18 anos;\n",
    "Adulto: acima de 18 anos."
   ]
  },
  {
   "cell_type": "code",
   "execution_count": 46,
   "metadata": {},
   "outputs": [
    {
     "name": "stdout",
     "output_type": "stream",
     "text": [
      "Você é um adulto.\n"
     ]
    }
   ],
   "source": [
    "idade = int(input('Digite a sua idade: '))\n",
    "if 0 <= idade <= 12:\n",
    "    print('Você é uma criança.')\n",
    "elif 13 <= idade <= 18:\n",
    "    print('Você é um adolescente.')\n",
    "elif idade > 18:\n",
    "    print('Você é um adulto.')\n",
    "else:\n",
    "    print('Opção inválida.')"
   ]
  },
  {
   "cell_type": "markdown",
   "metadata": {},
   "source": [
    "7 - Solicite um nome de usuário e uma senha e use uma estrutura \"if else\" para verificar se o nome de usuário e a senha fornecidos correspondem aos valores esperados determinados por você."
   ]
  },
  {
   "cell_type": "code",
   "execution_count": 47,
   "metadata": {},
   "outputs": [
    {
     "name": "stdout",
     "output_type": "stream",
     "text": [
      "Você está conectado\n"
     ]
    }
   ],
   "source": [
    "def login():\n",
    "    os.system('cls')\n",
    "    usuario = input('Digite o nome de usuário: ')\n",
    "    senha = input('Digite a senha')\n",
    "    if usuario == 'maxfeffer' and senha == '12345678':\n",
    "        print('Você está conectado')\n",
    "    else:\n",
    "        print('Usuário ou senha incorretos, tente novamente.\\n')\n",
    "        login()\n",
    "\n",
    "if __name__ == '__main__':\n",
    "    login()\n"
   ]
  },
  {
   "cell_type": "markdown",
   "metadata": {},
   "source": [
    "8 - Solicite ao usuário as coordenadas (x, y) de um ponto qualquer e utilize uma estrutura \"if elif else\" para determinar em qual quadrante do plano cartesiano o ponto se encontra de acordo com as seguintes condições:\n",
    "\n",
    "Primeiro Quadrante: os valores de x e y devem ser maiores que zero;\n",
    "Segundo Quadrante: o valor de x é menor que zero e o valor de y é maior que zero;\n",
    "Terceiro Quadrante: os valores de x e y devem ser menores que zero;\n",
    "Quarto Quadrante: o valor de x é maior que zero e o valor de y é menor que zero;\n",
    "Caso contrário: o ponto está localizado no eixo ou origem."
   ]
  },
  {
   "cell_type": "code",
   "execution_count": 49,
   "metadata": {},
   "outputs": [
    {
     "name": "stdout",
     "output_type": "stream",
     "text": [
      "As coordenadas são (5.0, -5.0)\n",
      "Você está no quarto quadrante do plano cartesiano\n"
     ]
    }
   ],
   "source": [
    "def coordenadas():\n",
    "    x = float(input('Digite um valor para x: '))\n",
    "    y = float(input('Digite um valor para y: '))\n",
    "\n",
    "    print(f'As coordenadas são ({x}, {y})')\n",
    "    if x > 0 and y > 0:\n",
    "        print('Você está no primeiro quadrante do plano cartesiano')\n",
    "    elif x > 0 and y < 0:\n",
    "        print('Você está no quarto quadrante do plano cartesiano')\n",
    "    elif x < 0 and y > 0:\n",
    "        print('Você está no segundo quadrante do plano cartesiano')\n",
    "    elif x < 0 and y < 0:\n",
    "        print('Você está no terceiro quadrante do plano cartesiano')\n",
    "\n",
    "if __name__ == '__main__':\n",
    "    coordenadas()"
   ]
  },
  {
   "cell_type": "code",
   "execution_count": null,
   "metadata": {},
   "outputs": [],
   "source": []
  }
 ],
 "metadata": {
  "kernelspec": {
   "display_name": "Python 3",
   "language": "python",
   "name": "python3"
  },
  "language_info": {
   "codemirror_mode": {
    "name": "ipython",
    "version": 3
   },
   "file_extension": ".py",
   "mimetype": "text/x-python",
   "name": "python",
   "nbconvert_exporter": "python",
   "pygments_lexer": "ipython3",
   "version": "3.11.8"
  },
  "orig_nbformat": 4
 },
 "nbformat": 4,
 "nbformat_minor": 2
}
