{
 "cells": [
  {
   "cell_type": "code",
   "execution_count": 1,
   "metadata": {},
   "outputs": [],
   "source": [
    "import numpy\n",
    "import os"
   ]
  },
  {
   "cell_type": "markdown",
   "metadata": {},
   "source": [
    "1 - Imprima a frase: Python na Escola de Programação da Alura."
   ]
  },
  {
   "cell_type": "code",
   "execution_count": 41,
   "metadata": {},
   "outputs": [
    {
     "name": "stdout",
     "output_type": "stream",
     "text": [
      "Python na Escola de Programação da Alura\n"
     ]
    }
   ],
   "source": [
    "print('Python na Escola de Programação da Alura')"
   ]
  },
  {
   "cell_type": "markdown",
   "metadata": {},
   "source": [
    "2 - Imprima a frase: \"Meu nome é {nome} e tenho {idade} anos\" em que nome e idade precisam ser valores armazenados em variáveis."
   ]
  },
  {
   "cell_type": "code",
   "execution_count": 42,
   "metadata": {},
   "outputs": [
    {
     "name": "stdout",
     "output_type": "stream",
     "text": [
      "Meu nome é Max e tenho 26 anos.\n"
     ]
    }
   ],
   "source": [
    "nome = \"Max\"\n",
    "idade = 26\n",
    "print(f'Meu nome é {nome} e tenho {idade} anos.')"
   ]
  },
  {
   "cell_type": "markdown",
   "metadata": {},
   "source": [
    "3 - Imprima a palavra: ‘ALURA’ de modo que cada letra fique em uma linha\n"
   ]
  },
  {
   "cell_type": "code",
   "execution_count": 43,
   "metadata": {},
   "outputs": [
    {
     "name": "stdout",
     "output_type": "stream",
     "text": [
      "A\n",
      "L\n",
      "U\n",
      "R\n",
      "A\n"
     ]
    }
   ],
   "source": [
    "print(\"\"\"A\n",
    "L\n",
    "U\n",
    "R\n",
    "A\"\"\")"
   ]
  },
  {
   "cell_type": "markdown",
   "metadata": {},
   "source": [
    "4 - Imprima a frase: \"O valor arredondado de pi é: {pi_arredondado}\" em que o valor de pi precisa ser armazenado em uma variável e arredondado para apenas duas casas decimais."
   ]
  },
  {
   "cell_type": "code",
   "execution_count": 44,
   "metadata": {},
   "outputs": [
    {
     "name": "stdout",
     "output_type": "stream",
     "text": [
      "3.141592653589793\n",
      "O valor arredondado de pi é: 3.14.\n",
      "O valor arredondado de pi é: 3.14.\n"
     ]
    }
   ],
   "source": [
    "pi = numpy.pi\n",
    "print(pi)\n",
    "pi_arredondado = round(pi, 2)\n",
    "print(f'O valor arredondado de pi é: {pi_arredondado}.')\n",
    "print(f'O valor arredondado de pi é: {pi:.2f}.')"
   ]
  },
  {
   "cell_type": "markdown",
   "metadata": {},
   "source": [
    "5 - Solicite ao usuário que insira um número e, em seguida, use uma estrutura \"if else\" para determinar se o número é par ou ímpar."
   ]
  },
  {
   "cell_type": "code",
   "execution_count": 45,
   "metadata": {},
   "outputs": [
    {
     "name": "stdout",
     "output_type": "stream",
     "text": [
      "O número 1 é impar.\n"
     ]
    }
   ],
   "source": [
    "numero = int(input(\"Digite um número: \"))\n",
    "if numero % 2 == 0:\n",
    "    print(f'O número {numero} é par')\n",
    "else:\n",
    "    print(f'O número {numero} é impar.')"
   ]
  },
  {
   "cell_type": "markdown",
   "metadata": {},
   "source": [
    "6 - Pergunte ao usuário sua idade e, com base nisso, use uma estrutura \"if elif else\" para classificar a idade em categorias de acordo com as seguintes condições:\n",
    "\n",
    "Criança: 0 a 12 anos;\n",
    "Adolescente: 13 a 18 anos;\n",
    "Adulto: acima de 18 anos."
   ]
  },
  {
   "cell_type": "code",
   "execution_count": 46,
   "metadata": {},
   "outputs": [
    {
     "name": "stdout",
     "output_type": "stream",
     "text": [
      "Você é um adulto.\n"
     ]
    }
   ],
   "source": [
    "idade = int(input('Digite a sua idade: '))\n",
    "if 0 <= idade <= 12:\n",
    "    print('Você é uma criança.')\n",
    "elif 13 <= idade <= 18:\n",
    "    print('Você é um adolescente.')\n",
    "elif idade > 18:\n",
    "    print('Você é um adulto.')\n",
    "else:\n",
    "    print('Opção inválida.')"
   ]
  },
  {
   "cell_type": "markdown",
   "metadata": {},
   "source": [
    "7 - Solicite um nome de usuário e uma senha e use uma estrutura \"if else\" para verificar se o nome de usuário e a senha fornecidos correspondem aos valores esperados determinados por você."
   ]
  },
  {
   "cell_type": "code",
   "execution_count": 47,
   "metadata": {},
   "outputs": [
    {
     "name": "stdout",
     "output_type": "stream",
     "text": [
      "Você está conectado\n"
     ]
    }
   ],
   "source": [
    "def login():\n",
    "    os.system('cls')\n",
    "    usuario = input('Digite o nome de usuário: ')\n",
    "    senha = input('Digite a senha')\n",
    "    if usuario == 'maxfeffer' and senha == '12345678':\n",
    "        print('Você está conectado')\n",
    "    else:\n",
    "        print('Usuário ou senha incorretos, tente novamente.\\n')\n",
    "        login()\n",
    "\n",
    "if __name__ == '__main__':\n",
    "    login()\n"
   ]
  },
  {
   "cell_type": "markdown",
   "metadata": {},
   "source": [
    "8 - Solicite ao usuário as coordenadas (x, y) de um ponto qualquer e utilize uma estrutura \"if elif else\" para determinar em qual quadrante do plano cartesiano o ponto se encontra de acordo com as seguintes condições:\n",
    "\n",
    "Primeiro Quadrante: os valores de x e y devem ser maiores que zero;\n",
    "Segundo Quadrante: o valor de x é menor que zero e o valor de y é maior que zero;\n",
    "Terceiro Quadrante: os valores de x e y devem ser menores que zero;\n",
    "Quarto Quadrante: o valor de x é maior que zero e o valor de y é menor que zero;\n",
    "Caso contrário: o ponto está localizado no eixo ou origem."
   ]
  },
  {
   "cell_type": "code",
   "execution_count": 49,
   "metadata": {},
   "outputs": [
    {
     "name": "stdout",
     "output_type": "stream",
     "text": [
      "As coordenadas são (5.0, -5.0)\n",
      "Você está no quarto quadrante do plano cartesiano\n"
     ]
    }
   ],
   "source": [
    "def coordenadas():\n",
    "    x = float(input('Digite um valor para x: '))\n",
    "    y = float(input('Digite um valor para y: '))\n",
    "\n",
    "    print(f'As coordenadas são ({x}, {y})')\n",
    "    if x > 0 and y > 0:\n",
    "        print('Você está no primeiro quadrante do plano cartesiano')\n",
    "    elif x > 0 and y < 0:\n",
    "        print('Você está no quarto quadrante do plano cartesiano')\n",
    "    elif x < 0 and y > 0:\n",
    "        print('Você está no segundo quadrante do plano cartesiano')\n",
    "    elif x < 0 and y < 0:\n",
    "        print('Você está no terceiro quadrante do plano cartesiano')\n",
    "\n",
    "if __name__ == '__main__':\n",
    "    coordenadas()"
   ]
  },
  {
   "cell_type": "markdown",
   "metadata": {},
   "source": [
    "9 - Crie uma lista para cada informação a seguir:\n",
    "\n",
    "Lista de números de 1 a 10;\n",
    "Lista com quatro nomes;\n",
    "Lista com o ano que você nasceu e o ano atual."
   ]
  },
  {
   "cell_type": "code",
   "execution_count": 7,
   "metadata": {},
   "outputs": [
    {
     "name": "stdout",
     "output_type": "stream",
     "text": [
      "[1, 2, 3, 4, 5, 6, 7, 8, 9, 10]\n",
      "['Miguel', 'Heloisa', 'Alicia', 'Arthur']\n",
      "[1992, 2024]\n"
     ]
    }
   ],
   "source": [
    "numeros = []\n",
    "for i in range(1, 11):\n",
    "    numeros.append(i)\n",
    "print(numeros)\n",
    "\n",
    "nomes = []\n",
    "for i in range(1, 5):\n",
    "    nome = input(f'Digite o {i}º nome: ')\n",
    "    nomes.append(nome)\n",
    "print(nomes)\n",
    "\n",
    "ano = [1960, 2024]\n",
    "print(ano)"
   ]
  },
  {
   "cell_type": "markdown",
   "metadata": {},
   "source": [
    "10 - Crie uma lista e utilize um loop for para percorrer todos os elementos da lista."
   ]
  },
  {
   "cell_type": "code",
   "execution_count": 1,
   "metadata": {},
   "outputs": [
    {
     "name": "stdout",
     "output_type": "stream",
     "text": [
      "Tem uma coisa\n",
      "Tem outra coisa\n"
     ]
    }
   ],
   "source": [
    "lista = ['uma coisa', 'outra coisa']\n",
    "for i in lista:\n",
    "    print(f'Tem {i}')"
   ]
  },
  {
   "cell_type": "markdown",
   "metadata": {},
   "source": [
    "11 - Utilize um loop for para calcular a soma dos números ímpares de 1 a 10."
   ]
  },
  {
   "cell_type": "code",
   "execution_count": 2,
   "metadata": {},
   "outputs": [
    {
     "name": "stdout",
     "output_type": "stream",
     "text": [
      "A soma dos números ímpares de 1 a 10 é 25\n"
     ]
    }
   ],
   "source": [
    "sum = 0\n",
    "for i in range(1, 11):\n",
    "    if i % 2 != 0:\n",
    "        sum += i\n",
    "print(f'A soma dos números ímpares de 1 a 10 é {sum}')"
   ]
  },
  {
   "cell_type": "markdown",
   "metadata": {},
   "source": [
    "12 - Utilize um loop for para imprimir os números de 1 a 10 em ordem decrescente."
   ]
  },
  {
   "cell_type": "code",
   "execution_count": 3,
   "metadata": {},
   "outputs": [
    {
     "name": "stdout",
     "output_type": "stream",
     "text": [
      "10\n",
      "9\n",
      "8\n",
      "7\n",
      "6\n",
      "5\n",
      "4\n",
      "3\n",
      "2\n",
      "1\n"
     ]
    }
   ],
   "source": [
    "for i in reversed(range(1, 11)):\n",
    "    print(i)"
   ]
  },
  {
   "cell_type": "markdown",
   "metadata": {},
   "source": [
    "13 - Solicite ao usuário um número e, em seguida, utilize um loop for para imprimir a tabuada desse número, indo de 1 a 10."
   ]
  },
  {
   "cell_type": "code",
   "execution_count": 4,
   "metadata": {},
   "outputs": [
    {
     "name": "stdout",
     "output_type": "stream",
     "text": [
      "5 * 1 = 5\n",
      "5 * 2 = 10\n",
      "5 * 3 = 15\n",
      "5 * 4 = 20\n",
      "5 * 5 = 25\n",
      "5 * 6 = 30\n",
      "5 * 7 = 35\n",
      "5 * 8 = 40\n",
      "5 * 9 = 45\n",
      "5 * 10 = 50\n",
      "[5, 10, 15, 20, 25, 30, 35, 40, 45, 50]\n"
     ]
    }
   ],
   "source": [
    "numero = int(input('Digite um número: '))\n",
    "tabuada = []\n",
    "for i in range(1, 11):\n",
    "    resultado = numero * i\n",
    "    print(f'{numero} * {i} = {resultado}')\n",
    "    tabuada.append(resultado)\n",
    "print(tabuada)\n"
   ]
  },
  {
   "cell_type": "markdown",
   "metadata": {},
   "source": [
    "14 - Crie uma lista de números e utilize um loop for para calcular a soma de todos os elementos. Utilize um bloco try-except para lidar com possíveis exceções."
   ]
  },
  {
   "cell_type": "code",
   "execution_count": 7,
   "metadata": {},
   "outputs": [
    {
     "name": "stdout",
     "output_type": "stream",
     "text": [
      "Você não digitou um número válido.\n",
      "Você não digitou um número válido.\n",
      "A soma dos elementos da lista é 11\n",
      "O maior valor da lista é 6\n",
      "A lista tem 2 elementos.\n"
     ]
    }
   ],
   "source": [
    "lista = []\n",
    "for i in range(1, 5):\n",
    "    try:\n",
    "        numero = int(input('Digite um número: '))\n",
    "    except:\n",
    "        print('Você não digitou um número válido.')\n",
    "        continue\n",
    "    lista.append(numero)\n",
    "\n",
    "print(f'A soma dos elementos da lista é {numpy.sum(lista)}')\n",
    "print(f'O maior valor da lista é {numpy.max(lista)}')\n",
    "print(f'A lista tem {len(lista)} elementos.')\n"
   ]
  },
  {
   "cell_type": "markdown",
   "metadata": {},
   "source": [
    " 15 - Construa um código que calcule a média dos valores em uma lista. Utilize um bloco try-except para lidar com a divisão por zero, caso a lista esteja vazia."
   ]
  },
  {
   "cell_type": "code",
   "execution_count": 17,
   "metadata": {},
   "outputs": [
    {
     "name": "stdout",
     "output_type": "stream",
     "text": [
      "[10, 20, 30, 40]\n",
      "A média dos valores da lista é igual a 25.0.\n"
     ]
    }
   ],
   "source": [
    "lista = []\n",
    "def media(lista):\n",
    "    if len(lista) == 0:\n",
    "        print('A lista está vazia, não da para calcular a média de uma lista vazia. Division by zero.')\n",
    "    else:\n",
    "        calculo = numpy.sum(lista) / len(lista)\n",
    "        print(f'A média dos valores da lista é igual a {calculo}.')\n",
    "\n",
    "for i in range(1, 5):\n",
    "    try:\n",
    "        numero = int(input('Digite um número: '))\n",
    "    except:\n",
    "        print('Você não digitou um número válido.')\n",
    "        continue\n",
    "    lista.append(numero)\n",
    "\n",
    "print(lista)\n",
    "media(lista)    \n",
    "\n"
   ]
  },
  {
   "cell_type": "markdown",
   "metadata": {},
   "source": [
    "16 - Crie um dicionário representando informações sobre uma pessoa, como nome, idade e cidade."
   ]
  },
  {
   "cell_type": "code",
   "execution_count": 32,
   "metadata": {},
   "outputs": [
    {
     "name": "stdout",
     "output_type": "stream",
     "text": [
      "<class 'dict'>\n",
      "{'nome': 'Fabricio', 'idade': 23, 'cidade': 'Ribeirão Pires'}\n"
     ]
    }
   ],
   "source": [
    "pessoa = {'nome': 'Fabricio', 'idade': 23, 'cidade': 'Ribeirão Pires'}\n",
    "print(type(pessoa))\n",
    "print(pessoa)"
   ]
  },
  {
   "cell_type": "markdown",
   "metadata": {},
   "source": [
    "17 - Utilizando o dicionário criado no item 1:\n",
    "\n",
    "Modifique o valor de um dos itens no dicionário (por exemplo, atualize a idade da pessoa);\n",
    "Adicione um campo de profissão para essa pessoa;\n",
    "Remova um item do dicionário."
   ]
  },
  {
   "cell_type": "code",
   "execution_count": 33,
   "metadata": {},
   "outputs": [
    {
     "name": "stdout",
     "output_type": "stream",
     "text": [
      "24\n",
      "{'nome': 'Fabricio', 'idade': 24, 'cidade': 'Ribeirão Pires', 'profissao': 'Analista de dados'}\n",
      "{'nome': 'Fabricio', 'idade': 24, 'profissao': 'Analista de dados'}\n"
     ]
    }
   ],
   "source": [
    "pessoa['idade'] = 24\n",
    "print(pessoa['idade'])\n",
    "pessoa['profissao'] = 'Analista de dados'\n",
    "print(pessoa)\n",
    "del pessoa['cidade']\n",
    "print(pessoa)"
   ]
  },
  {
   "cell_type": "markdown",
   "metadata": {},
   "source": [
    "18 - Crie um dicionário utilizando para representar números e seus quadrados de 1 a 5."
   ]
  },
  {
   "cell_type": "code",
   "execution_count": 38,
   "metadata": {},
   "outputs": [
    {
     "name": "stdout",
     "output_type": "stream",
     "text": [
      "{1: 1, 2: 4, 3: 9, 4: 16, 5: 25}\n"
     ]
    }
   ],
   "source": [
    "dict = {}\n",
    "for i in range(1, 6):\n",
    "    dict[i] = i * i\n",
    "print(dict)"
   ]
  },
  {
   "cell_type": "markdown",
   "metadata": {},
   "source": [
    "19 - Crie um dicionário e verifique se uma chave específica existe dentro desse dicionário."
   ]
  },
  {
   "cell_type": "code",
   "execution_count": 44,
   "metadata": {},
   "outputs": [
    {
     "name": "stdout",
     "output_type": "stream",
     "text": [
      "Thais\n",
      "None\n"
     ]
    }
   ],
   "source": [
    "dict = {'nome': 'Thais', 'profissao': 'Professora'}\n",
    "print(dict.get('nome'))\n",
    "print(dict.get('idade'))"
   ]
  },
  {
   "cell_type": "markdown",
   "metadata": {},
   "source": [
    "20 - Escreva um código que conte a frequência de cada palavra em uma frase utilizando um dicionário."
   ]
  },
  {
   "cell_type": "code",
   "execution_count": 48,
   "metadata": {},
   "outputs": [
    {
     "name": "stdout",
     "output_type": "stream",
     "text": [
      "Aprendendo programação utilizando Python e utilizando o Visual Studio Code\n",
      "{'Aprendendo': 1, 'programação': 1, 'utilizando': 2, 'Python': 1, 'e': 1, 'o': 1, 'Visual': 1, 'Studio': 1, 'Code': 1}\n"
     ]
    }
   ],
   "source": [
    "contagem_dict = {}\n",
    "frase = input('Escreva uma frase: ')\n",
    "palavras = frase.split()\n",
    "for i in palavras:\n",
    "    contagem_dict[i] = contagem_dict.get(i, 0) + 1\n",
    "print(frase)\n",
    "print(contagem_dict)\n"
   ]
  }
 ],
 "metadata": {
  "kernelspec": {
   "display_name": "Python 3",
   "language": "python",
   "name": "python3"
  },
  "language_info": {
   "codemirror_mode": {
    "name": "ipython",
    "version": 3
   },
   "file_extension": ".py",
   "mimetype": "text/x-python",
   "name": "python",
   "nbconvert_exporter": "python",
   "pygments_lexer": "ipython3",
   "version": "3.11.8"
  },
  "orig_nbformat": 4
 },
 "nbformat": 4,
 "nbformat_minor": 2
}
