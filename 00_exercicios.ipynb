{
 "cells": [
  {
   "cell_type": "code",
   "execution_count": 17,
   "metadata": {},
   "outputs": [],
   "source": [
    "import numpy as np"
   ]
  },
  {
   "cell_type": "markdown",
   "metadata": {},
   "source": [
    "1 - Imprima a frase: Python na Escola de Programação da Alura."
   ]
  },
  {
   "cell_type": "code",
   "execution_count": 18,
   "metadata": {},
   "outputs": [
    {
     "name": "stdout",
     "output_type": "stream",
     "text": [
      "Python na Escola de Programação da Alura\n"
     ]
    }
   ],
   "source": [
    "print('Python na Escola de Programação da Alura')"
   ]
  },
  {
   "cell_type": "markdown",
   "metadata": {},
   "source": [
    "2 - Imprima a frase: \"Meu nome é {nome} e tenho {idade} anos\" em que nome e idade precisam ser valores armazenados em variáveis."
   ]
  },
  {
   "cell_type": "code",
   "execution_count": 19,
   "metadata": {},
   "outputs": [
    {
     "name": "stdout",
     "output_type": "stream",
     "text": [
      "Meu nome é Max e tenho 26 anos.\n"
     ]
    }
   ],
   "source": [
    "nome = \"Max\"\n",
    "idade = 26\n",
    "print(f'Meu nome é {nome} e tenho {idade} anos.')"
   ]
  },
  {
   "cell_type": "markdown",
   "metadata": {},
   "source": [
    "3 - Imprima a palavra: ‘ALURA’ de modo que cada letra fique em uma linha\n"
   ]
  },
  {
   "cell_type": "code",
   "execution_count": 20,
   "metadata": {},
   "outputs": [
    {
     "name": "stdout",
     "output_type": "stream",
     "text": [
      "A\n",
      "L\n",
      "U\n",
      "R\n",
      "A\n"
     ]
    }
   ],
   "source": [
    "print(\"\"\"A\n",
    "L\n",
    "U\n",
    "R\n",
    "A\"\"\")"
   ]
  },
  {
   "cell_type": "markdown",
   "metadata": {},
   "source": [
    "4 - Imprima a frase: \"O valor arredondado de pi é: {pi_arredondado}\" em que o valor de pi precisa ser armazenado em uma variável e arredondado para apenas duas casas decimais."
   ]
  },
  {
   "cell_type": "code",
   "execution_count": 30,
   "metadata": {},
   "outputs": [
    {
     "name": "stdout",
     "output_type": "stream",
     "text": [
      "3.141592653589793\n",
      "O valor arredondado de pi é: 3.14.\n",
      "O valor arredondado de pi é: 3.14.\n"
     ]
    }
   ],
   "source": [
    "pi = np.pi\n",
    "print(pi)\n",
    "pi_arredondado = round(pi, 2)\n",
    "print(f'O valor arredondado de pi é: {pi_arredondado}.')\n",
    "print(f'O valor arredondado de pi é: {pi:.2f}.')"
   ]
  }
 ],
 "metadata": {
  "kernelspec": {
   "display_name": "Python 3",
   "language": "python",
   "name": "python3"
  },
  "language_info": {
   "codemirror_mode": {
    "name": "ipython",
    "version": 3
   },
   "file_extension": ".py",
   "mimetype": "text/x-python",
   "name": "python",
   "nbconvert_exporter": "python",
   "pygments_lexer": "ipython3",
   "version": "3.11.8"
  },
  "orig_nbformat": 4
 },
 "nbformat": 4,
 "nbformat_minor": 2
}
