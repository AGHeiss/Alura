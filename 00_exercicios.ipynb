{
 "cells": [
  {
   "cell_type": "code",
   "execution_count": 24,
   "metadata": {},
   "outputs": [],
   "source": [
    "import numpy\n",
    "import os\n"
   ]
  },
  {
   "cell_type": "markdown",
   "metadata": {},
   "source": [
    "1 - Imprima a frase: Python na Escola de Programação da Alura."
   ]
  },
  {
   "cell_type": "code",
   "execution_count": 41,
   "metadata": {},
   "outputs": [
    {
     "name": "stdout",
     "output_type": "stream",
     "text": [
      "Python na Escola de Programação da Alura\n"
     ]
    }
   ],
   "source": [
    "print('Python na Escola de Programação da Alura')"
   ]
  },
  {
   "cell_type": "markdown",
   "metadata": {},
   "source": [
    "2 - Imprima a frase: \"Meu nome é {nome} e tenho {idade} anos\" em que nome e idade precisam ser valores armazenados em variáveis."
   ]
  },
  {
   "cell_type": "code",
   "execution_count": 42,
   "metadata": {},
   "outputs": [
    {
     "name": "stdout",
     "output_type": "stream",
     "text": [
      "Meu nome é Max e tenho 26 anos.\n"
     ]
    }
   ],
   "source": [
    "nome = \"Max\"\n",
    "idade = 26\n",
    "print(f'Meu nome é {nome} e tenho {idade} anos.')"
   ]
  },
  {
   "cell_type": "markdown",
   "metadata": {},
   "source": [
    "3 - Imprima a palavra: ‘ALURA’ de modo que cada letra fique em uma linha\n"
   ]
  },
  {
   "cell_type": "code",
   "execution_count": 43,
   "metadata": {},
   "outputs": [
    {
     "name": "stdout",
     "output_type": "stream",
     "text": [
      "A\n",
      "L\n",
      "U\n",
      "R\n",
      "A\n"
     ]
    }
   ],
   "source": [
    "print(\"\"\"A\n",
    "L\n",
    "U\n",
    "R\n",
    "A\"\"\")"
   ]
  },
  {
   "cell_type": "markdown",
   "metadata": {},
   "source": [
    "4 - Imprima a frase: \"O valor arredondado de pi é: {pi_arredondado}\" em que o valor de pi precisa ser armazenado em uma variável e arredondado para apenas duas casas decimais."
   ]
  },
  {
   "cell_type": "code",
   "execution_count": 44,
   "metadata": {},
   "outputs": [
    {
     "name": "stdout",
     "output_type": "stream",
     "text": [
      "3.141592653589793\n",
      "O valor arredondado de pi é: 3.14.\n",
      "O valor arredondado de pi é: 3.14.\n"
     ]
    }
   ],
   "source": [
    "pi = numpy.pi\n",
    "print(pi)\n",
    "pi_arredondado = round(pi, 2)\n",
    "print(f'O valor arredondado de pi é: {pi_arredondado}.')\n",
    "print(f'O valor arredondado de pi é: {pi:.2f}.')"
   ]
  },
  {
   "cell_type": "markdown",
   "metadata": {},
   "source": [
    "5 - Solicite ao usuário que insira um número e, em seguida, use uma estrutura \"if else\" para determinar se o número é par ou ímpar."
   ]
  },
  {
   "cell_type": "code",
   "execution_count": 45,
   "metadata": {},
   "outputs": [
    {
     "name": "stdout",
     "output_type": "stream",
     "text": [
      "O número 1 é impar.\n"
     ]
    }
   ],
   "source": [
    "numero = int(input(\"Digite um número: \"))\n",
    "if numero % 2 == 0:\n",
    "    print(f'O número {numero} é par')\n",
    "else:\n",
    "    print(f'O número {numero} é impar.')"
   ]
  },
  {
   "cell_type": "markdown",
   "metadata": {},
   "source": [
    "6 - Pergunte ao usuário sua idade e, com base nisso, use uma estrutura \"if elif else\" para classificar a idade em categorias de acordo com as seguintes condições:\n",
    "\n",
    "Criança: 0 a 12 anos;\n",
    "Adolescente: 13 a 18 anos;\n",
    "Adulto: acima de 18 anos."
   ]
  },
  {
   "cell_type": "code",
   "execution_count": 46,
   "metadata": {},
   "outputs": [
    {
     "name": "stdout",
     "output_type": "stream",
     "text": [
      "Você é um adulto.\n"
     ]
    }
   ],
   "source": [
    "idade = int(input('Digite a sua idade: '))\n",
    "if 0 <= idade <= 12:\n",
    "    print('Você é uma criança.')\n",
    "elif 13 <= idade <= 18:\n",
    "    print('Você é um adolescente.')\n",
    "elif idade > 18:\n",
    "    print('Você é um adulto.')\n",
    "else:\n",
    "    print('Opção inválida.')"
   ]
  },
  {
   "cell_type": "markdown",
   "metadata": {},
   "source": [
    "7 - Solicite um nome de usuário e uma senha e use uma estrutura \"if else\" para verificar se o nome de usuário e a senha fornecidos correspondem aos valores esperados determinados por você."
   ]
  },
  {
   "cell_type": "code",
   "execution_count": 47,
   "metadata": {},
   "outputs": [
    {
     "name": "stdout",
     "output_type": "stream",
     "text": [
      "Você está conectado\n"
     ]
    }
   ],
   "source": [
    "def login():\n",
    "    os.system('cls')\n",
    "    usuario = input('Digite o nome de usuário: ')\n",
    "    senha = input('Digite a senha')\n",
    "    if usuario == 'maxfeffer' and senha == '12345678':\n",
    "        print('Você está conectado')\n",
    "    else:\n",
    "        print('Usuário ou senha incorretos, tente novamente.\\n')\n",
    "        login()\n",
    "\n",
    "if __name__ == '__main__':\n",
    "    login()\n"
   ]
  },
  {
   "cell_type": "markdown",
   "metadata": {},
   "source": [
    "8 - Solicite ao usuário as coordenadas (x, y) de um ponto qualquer e utilize uma estrutura \"if elif else\" para determinar em qual quadrante do plano cartesiano o ponto se encontra de acordo com as seguintes condições:\n",
    "\n",
    "Primeiro Quadrante: os valores de x e y devem ser maiores que zero;\n",
    "Segundo Quadrante: o valor de x é menor que zero e o valor de y é maior que zero;\n",
    "Terceiro Quadrante: os valores de x e y devem ser menores que zero;\n",
    "Quarto Quadrante: o valor de x é maior que zero e o valor de y é menor que zero;\n",
    "Caso contrário: o ponto está localizado no eixo ou origem."
   ]
  },
  {
   "cell_type": "code",
   "execution_count": 49,
   "metadata": {},
   "outputs": [
    {
     "name": "stdout",
     "output_type": "stream",
     "text": [
      "As coordenadas são (5.0, -5.0)\n",
      "Você está no quarto quadrante do plano cartesiano\n"
     ]
    }
   ],
   "source": [
    "def coordenadas():\n",
    "    x = float(input('Digite um valor para x: '))\n",
    "    y = float(input('Digite um valor para y: '))\n",
    "\n",
    "    print(f'As coordenadas são ({x}, {y})')\n",
    "    if x > 0 and y > 0:\n",
    "        print('Você está no primeiro quadrante do plano cartesiano')\n",
    "    elif x > 0 and y < 0:\n",
    "        print('Você está no quarto quadrante do plano cartesiano')\n",
    "    elif x < 0 and y > 0:\n",
    "        print('Você está no segundo quadrante do plano cartesiano')\n",
    "    elif x < 0 and y < 0:\n",
    "        print('Você está no terceiro quadrante do plano cartesiano')\n",
    "\n",
    "if __name__ == '__main__':\n",
    "    coordenadas()"
   ]
  },
  {
   "cell_type": "markdown",
   "metadata": {},
   "source": [
    "9 - Crie uma lista para cada informação a seguir:\n",
    "\n",
    "Lista de números de 1 a 10;\n",
    "Lista com quatro nomes;\n",
    "Lista com o ano que você nasceu e o ano atual."
   ]
  },
  {
   "cell_type": "code",
   "execution_count": 7,
   "metadata": {},
   "outputs": [
    {
     "name": "stdout",
     "output_type": "stream",
     "text": [
      "[1, 2, 3, 4, 5, 6, 7, 8, 9, 10]\n",
      "['Miguel', 'Heloisa', 'Alicia', 'Arthur']\n",
      "[1992, 2024]\n"
     ]
    }
   ],
   "source": [
    "numeros = []\n",
    "for i in range(1, 11):\n",
    "    numeros.append(i)\n",
    "print(numeros)\n",
    "\n",
    "nomes = []\n",
    "for i in range(1, 5):\n",
    "    nome = input(f'Digite o {i}º nome: ')\n",
    "    nomes.append(nome)\n",
    "print(nomes)\n",
    "\n",
    "ano = [1960, 2024]\n",
    "print(ano)"
   ]
  },
  {
   "cell_type": "markdown",
   "metadata": {},
   "source": [
    "10 - Crie uma lista e utilize um loop for para percorrer todos os elementos da lista."
   ]
  },
  {
   "cell_type": "code",
   "execution_count": 1,
   "metadata": {},
   "outputs": [
    {
     "name": "stdout",
     "output_type": "stream",
     "text": [
      "Tem uma coisa\n",
      "Tem outra coisa\n"
     ]
    }
   ],
   "source": [
    "lista = ['uma coisa', 'outra coisa']\n",
    "for i in lista:\n",
    "    print(f'Tem {i}')"
   ]
  },
  {
   "cell_type": "markdown",
   "metadata": {},
   "source": [
    "11 - Utilize um loop for para calcular a soma dos números ímpares de 1 a 10."
   ]
  },
  {
   "cell_type": "code",
   "execution_count": 2,
   "metadata": {},
   "outputs": [
    {
     "name": "stdout",
     "output_type": "stream",
     "text": [
      "A soma dos números ímpares de 1 a 10 é 25\n"
     ]
    }
   ],
   "source": [
    "sum = 0\n",
    "for i in range(1, 11):\n",
    "    if i % 2 != 0:\n",
    "        sum += i\n",
    "print(f'A soma dos números ímpares de 1 a 10 é {sum}')"
   ]
  },
  {
   "cell_type": "markdown",
   "metadata": {},
   "source": [
    "12 - Utilize um loop for para imprimir os números de 1 a 10 em ordem decrescente."
   ]
  },
  {
   "cell_type": "code",
   "execution_count": 3,
   "metadata": {},
   "outputs": [
    {
     "name": "stdout",
     "output_type": "stream",
     "text": [
      "10\n",
      "9\n",
      "8\n",
      "7\n",
      "6\n",
      "5\n",
      "4\n",
      "3\n",
      "2\n",
      "1\n"
     ]
    }
   ],
   "source": [
    "for i in reversed(range(1, 11)):\n",
    "    print(i)"
   ]
  },
  {
   "cell_type": "markdown",
   "metadata": {},
   "source": [
    "13 - Solicite ao usuário um número e, em seguida, utilize um loop for para imprimir a tabuada desse número, indo de 1 a 10."
   ]
  },
  {
   "cell_type": "code",
   "execution_count": 4,
   "metadata": {},
   "outputs": [
    {
     "name": "stdout",
     "output_type": "stream",
     "text": [
      "5 * 1 = 5\n",
      "5 * 2 = 10\n",
      "5 * 3 = 15\n",
      "5 * 4 = 20\n",
      "5 * 5 = 25\n",
      "5 * 6 = 30\n",
      "5 * 7 = 35\n",
      "5 * 8 = 40\n",
      "5 * 9 = 45\n",
      "5 * 10 = 50\n",
      "[5, 10, 15, 20, 25, 30, 35, 40, 45, 50]\n"
     ]
    }
   ],
   "source": [
    "numero = int(input('Digite um número: '))\n",
    "tabuada = []\n",
    "for i in range(1, 11):\n",
    "    resultado = numero * i\n",
    "    print(f'{numero} * {i} = {resultado}')\n",
    "    tabuada.append(resultado)\n",
    "print(tabuada)\n"
   ]
  },
  {
   "cell_type": "markdown",
   "metadata": {},
   "source": [
    "14 - Crie uma lista de números e utilize um loop for para calcular a soma de todos os elementos. Utilize um bloco try-except para lidar com possíveis exceções."
   ]
  },
  {
   "cell_type": "code",
   "execution_count": 7,
   "metadata": {},
   "outputs": [
    {
     "name": "stdout",
     "output_type": "stream",
     "text": [
      "Você não digitou um número válido.\n",
      "Você não digitou um número válido.\n",
      "A soma dos elementos da lista é 11\n",
      "O maior valor da lista é 6\n",
      "A lista tem 2 elementos.\n"
     ]
    }
   ],
   "source": [
    "lista = []\n",
    "for i in range(1, 5):\n",
    "    try:\n",
    "        numero = int(input('Digite um número: '))\n",
    "    except:\n",
    "        print('Você não digitou um número válido.')\n",
    "        continue\n",
    "    lista.append(numero)\n",
    "\n",
    "print(f'A soma dos elementos da lista é {numpy.sum(lista)}')\n",
    "print(f'O maior valor da lista é {numpy.max(lista)}')\n",
    "print(f'A lista tem {len(lista)} elementos.')\n"
   ]
  },
  {
   "cell_type": "markdown",
   "metadata": {},
   "source": [
    " 15 - Construa um código que calcule a média dos valores em uma lista. Utilize um bloco try-except para lidar com a divisão por zero, caso a lista esteja vazia."
   ]
  },
  {
   "cell_type": "code",
   "execution_count": 17,
   "metadata": {},
   "outputs": [
    {
     "name": "stdout",
     "output_type": "stream",
     "text": [
      "[10, 20, 30, 40]\n",
      "A média dos valores da lista é igual a 25.0.\n"
     ]
    }
   ],
   "source": [
    "lista = []\n",
    "def media(lista):\n",
    "    if len(lista) == 0:\n",
    "        print('A lista está vazia, não da para calcular a média de uma lista vazia. Division by zero.')\n",
    "    else:\n",
    "        calculo = numpy.sum(lista) / len(lista)\n",
    "        print(f'A média dos valores da lista é igual a {calculo}.')\n",
    "\n",
    "for i in range(1, 5):\n",
    "    try:\n",
    "        numero = int(input('Digite um número: '))\n",
    "    except:\n",
    "        print('Você não digitou um número válido.')\n",
    "        continue\n",
    "    lista.append(numero)\n",
    "\n",
    "print(lista)\n",
    "media(lista)    \n",
    "\n"
   ]
  },
  {
   "cell_type": "markdown",
   "metadata": {},
   "source": [
    "16 - Crie um dicionário representando informações sobre uma pessoa, como nome, idade e cidade."
   ]
  },
  {
   "cell_type": "code",
   "execution_count": 32,
   "metadata": {},
   "outputs": [
    {
     "name": "stdout",
     "output_type": "stream",
     "text": [
      "<class 'dict'>\n",
      "{'nome': 'Fabricio', 'idade': 23, 'cidade': 'Ribeirão Pires'}\n"
     ]
    }
   ],
   "source": [
    "pessoa = {'nome': 'Fabricio', 'idade': 23, 'cidade': 'Ribeirão Pires'}\n",
    "print(type(pessoa))\n",
    "print(pessoa)"
   ]
  },
  {
   "cell_type": "markdown",
   "metadata": {},
   "source": [
    "17 - Utilizando o dicionário criado no item 16:\n",
    "\n",
    "Modifique o valor de um dos itens no dicionário (por exemplo, atualize a idade da pessoa);\n",
    "Adicione um campo de profissão para essa pessoa;\n",
    "Remova um item do dicionário."
   ]
  },
  {
   "cell_type": "code",
   "execution_count": 33,
   "metadata": {},
   "outputs": [
    {
     "name": "stdout",
     "output_type": "stream",
     "text": [
      "24\n",
      "{'nome': 'Fabricio', 'idade': 24, 'cidade': 'Ribeirão Pires', 'profissao': 'Analista de dados'}\n",
      "{'nome': 'Fabricio', 'idade': 24, 'profissao': 'Analista de dados'}\n"
     ]
    }
   ],
   "source": [
    "pessoa['idade'] = 24\n",
    "print(pessoa['idade'])\n",
    "pessoa['profissao'] = 'Analista de dados'\n",
    "print(pessoa)\n",
    "del pessoa['cidade']\n",
    "print(pessoa)"
   ]
  },
  {
   "cell_type": "markdown",
   "metadata": {},
   "source": [
    "18 - Crie um dicionário utilizando para representar números e seus quadrados de 1 a 5."
   ]
  },
  {
   "cell_type": "code",
   "execution_count": 38,
   "metadata": {},
   "outputs": [
    {
     "name": "stdout",
     "output_type": "stream",
     "text": [
      "{1: 1, 2: 4, 3: 9, 4: 16, 5: 25}\n"
     ]
    }
   ],
   "source": [
    "dict = {}\n",
    "for i in range(1, 6):\n",
    "    dict[i] = i * i\n",
    "print(dict)"
   ]
  },
  {
   "cell_type": "markdown",
   "metadata": {},
   "source": [
    "19 - Crie um dicionário e verifique se uma chave específica existe dentro desse dicionário."
   ]
  },
  {
   "cell_type": "code",
   "execution_count": 44,
   "metadata": {},
   "outputs": [
    {
     "name": "stdout",
     "output_type": "stream",
     "text": [
      "Thais\n",
      "None\n"
     ]
    }
   ],
   "source": [
    "dict = {'nome': 'Thais', 'profissao': 'Professora'}\n",
    "print(dict.get('nome'))\n",
    "print(dict.get('idade'))"
   ]
  },
  {
   "cell_type": "markdown",
   "metadata": {},
   "source": [
    "20 - Escreva um código que conte a frequência de cada palavra em uma frase utilizando um dicionário."
   ]
  },
  {
   "cell_type": "code",
   "execution_count": 48,
   "metadata": {},
   "outputs": [
    {
     "name": "stdout",
     "output_type": "stream",
     "text": [
      "Aprendendo programação utilizando Python e utilizando o Visual Studio Code\n",
      "{'Aprendendo': 1, 'programação': 1, 'utilizando': 2, 'Python': 1, 'e': 1, 'o': 1, 'Visual': 1, 'Studio': 1, 'Code': 1}\n"
     ]
    }
   ],
   "source": [
    "contagem_dict = {}\n",
    "frase = input('Escreva uma frase: ')\n",
    "palavras = frase.split()\n",
    "for i in palavras:\n",
    "    contagem_dict[i] = contagem_dict.get(i, 0) + 1\n",
    "print(frase)\n",
    "print(contagem_dict)\n"
   ]
  },
  {
   "cell_type": "markdown",
   "metadata": {},
   "source": [
    "21 - Crie uma classe chamada Musica com os seguintes atributos e crie 3 objetos definindo cada atributo..\n",
    "nome\n",
    "artista\n",
    "duracao"
   ]
  },
  {
   "cell_type": "code",
   "execution_count": 6,
   "metadata": {},
   "outputs": [
    {
     "name": "stdout",
     "output_type": "stream",
     "text": [
      "{'nome': 'My way', 'artista': 'Frank Sinatra', 'duracao': 4}\n"
     ]
    }
   ],
   "source": [
    "class Musica:\n",
    "    nome = str\n",
    "    artista = str\n",
    "    duracao = int\n",
    "\n",
    "musica_01 = Musica()\n",
    "musica_01.nome = 'My way'\n",
    "musica_01.artista = 'Frank Sinatra'\n",
    "musica_01.duracao = 4\n",
    "\n",
    "print(vars(musica_01))\n"
   ]
  },
  {
   "cell_type": "markdown",
   "metadata": {},
   "source": [
    "22 - Atribua o valor 'Italiana' ao atributo categoria da instância restaurante_praca da classe Restaurante."
   ]
  },
  {
   "cell_type": "code",
   "execution_count": 7,
   "metadata": {},
   "outputs": [
    {
     "name": "stdout",
     "output_type": "stream",
     "text": [
      "{'categoria': 'Italiana'}\n"
     ]
    }
   ],
   "source": [
    "class Restaurante:\n",
    "    nome = ''\n",
    "    categoria = ''\n",
    "    __ativo = False\n",
    "\n",
    "restaurante_praca = Restaurante()\n",
    "restaurante_praca.categoria = 'Italiana'\n",
    "\n",
    "print(vars(restaurante_praca))"
   ]
  },
  {
   "cell_type": "markdown",
   "metadata": {},
   "source": [
    "23 - Acesse o valor do atributo nome da instância restaurante_praca da classe Restaurante."
   ]
  },
  {
   "cell_type": "code",
   "execution_count": 8,
   "metadata": {},
   "outputs": [
    {
     "name": "stdout",
     "output_type": "stream",
     "text": [
      "Pasta\n"
     ]
    }
   ],
   "source": [
    "restaurante_praca.nome = 'Pasta'\n",
    "print(restaurante_praca.nome)"
   ]
  },
  {
   "cell_type": "markdown",
   "metadata": {},
   "source": [
    "24 - Verifique o valor inicial do atributo ativo para a instância restaurante_praca e exiba uma mensagem informando se o restaurante está ativo ou inativo."
   ]
  },
  {
   "cell_type": "code",
   "execution_count": 9,
   "metadata": {},
   "outputs": [
    {
     "name": "stdout",
     "output_type": "stream",
     "text": [
      "False\n",
      "O restaurante Pasta está inativo\n"
     ]
    }
   ],
   "source": [
    "print(restaurante_praca.ativo)\n",
    "print(f'O restaurante {restaurante_praca.nome} está ativo! 'if restaurante_praca.ativo else f'O restaurante {restaurante_praca.nome} está inativo')"
   ]
  },
  {
   "cell_type": "markdown",
   "metadata": {},
   "source": [
    "25 - Acesse o valor do atributo de classe categoria diretamente da classe Restaurante e armazene em uma variável chamada categoria."
   ]
  },
  {
   "cell_type": "code",
   "execution_count": 10,
   "metadata": {},
   "outputs": [
    {
     "name": "stdout",
     "output_type": "stream",
     "text": [
      "Italiana\n"
     ]
    }
   ],
   "source": [
    "categoria = restaurante_praca.categoria\n",
    "print(categoria)"
   ]
  },
  {
   "cell_type": "markdown",
   "metadata": {},
   "source": [
    "26 - Altere o valor do atributo nome para 'Bistrô'."
   ]
  },
  {
   "cell_type": "code",
   "execution_count": 11,
   "metadata": {},
   "outputs": [
    {
     "name": "stdout",
     "output_type": "stream",
     "text": [
      "{'categoria': 'Italiana', 'nome': 'Bistrô'}\n"
     ]
    }
   ],
   "source": [
    "restaurante_praca.nome = 'Bistrô'\n",
    "print(vars(restaurante_praca))"
   ]
  },
  {
   "cell_type": "markdown",
   "metadata": {},
   "source": [
    "27 - Crie uma nova instância da classe Restaurante chamada restaurante_pizza com o nome 'Pizza Place' e categoria 'Fast Food'."
   ]
  },
  {
   "cell_type": "code",
   "execution_count": 12,
   "metadata": {},
   "outputs": [
    {
     "name": "stdout",
     "output_type": "stream",
     "text": [
      "{'nome': 'Pizza Place', 'categoria': 'Fast Food'}\n"
     ]
    }
   ],
   "source": [
    "restaurante_pizza = Restaurante()\n",
    "restaurante_pizza.nome = 'Pizza Place'\n",
    "restaurante_pizza.categoria = 'Fast Food'\n",
    "print(vars(restaurante_pizza))"
   ]
  },
  {
   "cell_type": "markdown",
   "metadata": {},
   "source": [
    "28 - Verifique se a categoria da instância restaurante_pizza é 'Fast Food'."
   ]
  },
  {
   "cell_type": "code",
   "execution_count": 13,
   "metadata": {},
   "outputs": [
    {
     "name": "stdout",
     "output_type": "stream",
     "text": [
      "Fast Food\n"
     ]
    }
   ],
   "source": [
    "print(restaurante_pizza.categoria)"
   ]
  },
  {
   "cell_type": "markdown",
   "metadata": {},
   "source": [
    "29 - Mude o estado da instância restaurante_pizza para ativo."
   ]
  },
  {
   "cell_type": "code",
   "execution_count": 14,
   "metadata": {},
   "outputs": [
    {
     "name": "stdout",
     "output_type": "stream",
     "text": [
      "O restaurante Pizza Place está ativo!\n"
     ]
    }
   ],
   "source": [
    "restaurante_pizza.ativo = True\n",
    "print(f'O restaurante {restaurante_pizza.nome} está ativo!' if restaurante_pizza.ativo else f'O restaurante {restaurante_pizza.nome} está inativo')"
   ]
  },
  {
   "cell_type": "markdown",
   "metadata": {},
   "source": [
    "30 - Imprima no console o nome e a categoria da instância restaurante_praca."
   ]
  },
  {
   "cell_type": "code",
   "execution_count": 15,
   "metadata": {},
   "outputs": [
    {
     "name": "stdout",
     "output_type": "stream",
     "text": [
      "Bistrô Italiana\n",
      "{'categoria': 'Italiana', 'nome': 'Bistrô'}\n"
     ]
    }
   ],
   "source": [
    "print(restaurante_praca.nome, restaurante_praca.categoria)\n",
    "print(vars(restaurante_praca))"
   ]
  },
  {
   "cell_type": "markdown",
   "metadata": {},
   "source": [
    "31 - class Musica:\n",
    "    nome = ''\n",
    "    artista = ''\n",
    "    duracao = int\n",
    "\n",
    "Refaça essa classe Musica utilizando uma forma mais concisa e expressiva, aproveitando a sintaxe simplificada do Python."
   ]
  },
  {
   "cell_type": "code",
   "execution_count": 23,
   "metadata": {},
   "outputs": [
    {
     "name": "stdout",
     "output_type": "stream",
     "text": [
      "My way | Frank Sinatra | 400 segundos\n",
      "Tempo perdido | Legião Urbana | 400 segundos\n",
      "Faroeste Caboclo | Legião Urbana | 1000 segundos\n"
     ]
    }
   ],
   "source": [
    "class Musica:\n",
    "    def __init__(self, nome, artista, duracao):\n",
    "        self.nome = nome\n",
    "        self.artista = artista\n",
    "        self.duracao = duracao\n",
    "    \n",
    "    def __str__(self):\n",
    "        return f'{self.nome} | {self.artista} | {self.duracao} segundos'\n",
    "\n",
    "musica_01 = Musica('My way', 'Frank Sinatra', 400)\n",
    "musica_02 = Musica('Tempo perdido', 'Legião Urbana', 400)\n",
    "musica_03 = Musica('Faroeste Caboclo', 'Legião Urbana', 1000)\n",
    "\n",
    "print(musica_01)\n",
    "print(musica_02)\n",
    "print(musica_03)"
   ]
  },
  {
   "cell_type": "markdown",
   "metadata": {},
   "source": [
    "32 - Implemente uma classe chamada Carro com os atributos básicos, como modelo, cor e ano. Crie uma instância dessa classe e atribua valores aos seus atributos."
   ]
  },
  {
   "cell_type": "code",
   "execution_count": 24,
   "metadata": {},
   "outputs": [
    {
     "name": "stdout",
     "output_type": "stream",
     "text": [
      "Chevrolet | Azul | 2022\n"
     ]
    }
   ],
   "source": [
    "class Carro:\n",
    "    def __init__(self, modelo, cor, ano):\n",
    "        self.modelo = modelo\n",
    "        self.cor = cor\n",
    "        self.ano = ano\n",
    "\n",
    "    def __str__(self):\n",
    "        return f'{self.modelo} | {self.cor} | {self.ano}'\n",
    "    \n",
    "carro_01 = Carro('Chevrolet', 'Azul', '2022')\n",
    "print(carro_01)\n"
   ]
  },
  {
   "cell_type": "markdown",
   "metadata": {},
   "source": [
    "33 - Crie uma classe chamada Restaurante com os atributos nome, categoria, ativo e crie mais 2 atributos. Instancie um restaurante e atribua valores aos seus atributos."
   ]
  },
  {
   "cell_type": "code",
   "execution_count": 26,
   "metadata": {},
   "outputs": [
    {
     "name": "stdout",
     "output_type": "stream",
     "text": [
      "{'categoria': 'Italiana', 'cidade': 'Suzano', 'delivery': True, 'nome': 'Pasta'}\n"
     ]
    }
   ],
   "source": [
    "class Restaurante:\n",
    "    nome = ''\n",
    "    categoria = ''\n",
    "    cidade = ''\n",
    "    delivery = False\n",
    "    ativo = False\n",
    "\n",
    "restaurante_praca = Restaurante()\n",
    "restaurante_praca.categoria = 'Italiana'\n",
    "restaurante_praca.cidade = 'Suzano'\n",
    "restaurante_praca.delivery = True\n",
    "restaurante_praca.nome = 'Pasta'\n",
    "\n",
    "print(vars(restaurante_praca))"
   ]
  },
  {
   "cell_type": "markdown",
   "metadata": {},
   "source": [
    "34 - Modifique a classe Restaurante adicionando um construtor que aceita nome e categoria como parâmetros e inicia ativo como False por padrão. Crie uma instância utilizando o construtor.\n",
    "\n",
    "35 - Adicione um método especial __str__ à classe Restaurante para que, ao imprimir uma instância, seja exibida uma mensagem formatada com o nome e a categoria. Exiba essa mensagem para uma instância de restaurante."
   ]
  },
  {
   "cell_type": "code",
   "execution_count": 5,
   "metadata": {},
   "outputs": [
    {
     "name": "stdout",
     "output_type": "stream",
     "text": [
      "Pizza Saborosa | Fast Food | Inativo | \n"
     ]
    }
   ],
   "source": [
    "class Restaurante:\n",
    "\n",
    "    cidade = ''\n",
    "    delivery = False\n",
    "    \n",
    "    def __init__(self, nome, categoria, ativo = False):\n",
    "        self.nome = nome\n",
    "        self.categoria = categoria\n",
    "        self.ativo = ativo\n",
    "\n",
    "    def __str__(self):\n",
    "        return f\"{self.nome} | {self.categoria} | {'Ativo' if self.ativo else 'Inativo'} | {Restaurante.cidade}\"\n",
    "\n",
    "restaurante_pizza = Restaurante('Pizza Saborosa', 'Fast Food')\n",
    "print(restaurante_pizza)\n",
    "\n",
    "\n"
   ]
  },
  {
   "cell_type": "markdown",
   "metadata": {},
   "source": [
    "36 - Crie uma classe chamada Cliente e pense em 4 atributos. Em seguida, instancie 3 objetos desta classe e atribua valores aos seus atributos através de um método construtor."
   ]
  },
  {
   "cell_type": "code",
   "execution_count": 23,
   "metadata": {},
   "outputs": [
    {
     "name": "stdout",
     "output_type": "stream",
     "text": [
      "Cliente: Mateus               | Playstation 4        | 12/12/2022           | 2000\n",
      "Cliente: Letícia              | Notebook             | 25/03/2023           | 3000\n",
      "Cliente: Ailton               | Geladeira            | 01/02/2014           | 4000\n"
     ]
    }
   ],
   "source": [
    "class Cliente:\n",
    "    def __init__(self, nome, produto, data, valor = 0):\n",
    "        self.nome = nome\n",
    "        self.produto = produto\n",
    "        self.data = data\n",
    "        self.valor = valor\n",
    "    \n",
    "    def __str__(self):\n",
    "        return f'Cliente: {self.nome.ljust(20)} | {self.produto.ljust(20)} | {self.data.ljust(20)} | {self.valor}'\n",
    "     \n",
    "cliente_01 = Cliente('Mateus', 'Playstation 4', '12/12/2022', 2000)\n",
    "cliente_02 = Cliente('Letícia', 'Notebook', '25/03/2023', 3000)\n",
    "cliente_03 = Cliente('Ailton', 'Geladeira', '01/02/2014', 4000)\n",
    "\n",
    "print(cliente_01)\n",
    "print(cliente_02)\n",
    "print(cliente_03)\n",
    "   "
   ]
  },
  {
   "cell_type": "markdown",
   "metadata": {},
   "source": [
    "37 - Crie uma nova classe chamada Pessoa com atributos como nome, idade e profissão. Adicione um método especial __str__ para imprimir uma representação em string da pessoa. Implemente também um método de instância chamado aniversario que aumenta a idade da pessoa em um ano. Por fim, adicione uma propriedade chamada saudacao que retorna uma mensagem de saudação personalizada com base na profissão da pessoa."
   ]
  },
  {
   "cell_type": "code",
   "execution_count": 47,
   "metadata": {},
   "outputs": [
    {
     "name": "stdout",
     "output_type": "stream",
     "text": [
      "Nome                 Idade                Profissão           \n",
      "Gustavo              22                   Programador\n",
      "Nome                 Idade                Profissão           \n",
      "Gabriela             28                   Vendedor\n",
      "Nome                 Idade                Profissão           \n",
      "Marcos               34                   Pedreiro\n",
      "Sua idade foi atualizada para 23 anos.\n",
      "Hello World.\n",
      "Boa tarde, como posso ajudá-lo?\n",
      "Bom dia. Parece difícil, mas não é fácil.\n"
     ]
    }
   ],
   "source": [
    "class Pessoa:\n",
    "    def __init__(self, nome, idade, profissao):\n",
    "        self.nome = nome\n",
    "        self.idade = idade\n",
    "        self.profissao = profissao\n",
    "    \n",
    "    def __str__(self):\n",
    "        print('Nome'.ljust(20), 'Idade'.ljust(20), 'Profissão'.ljust(20))\n",
    "        return f\"{self.nome.ljust(20)} {self.idade}{''.ljust(17)}  {self.profissao}\"\n",
    "    \n",
    "    def aniversario(self):\n",
    "        self.idade += 1\n",
    "        print(f'Sua idade foi atualizada para {self.idade} anos.')\n",
    "    \n",
    "    @property\n",
    "    def saudacao(self):\n",
    "        if self.profissao == 'Programador':\n",
    "            print(\"Hello World.\")\n",
    "        elif self.profissao == 'Vendedor':\n",
    "            print(\"Boa tarde, como posso ajudá-lo?\")\n",
    "        elif self.profissao == 'Pedreiro':\n",
    "            print(\"Bom dia. Parece difícil, mas não é fácil.\")\n",
    "        else:\n",
    "            print(\"Bom dia, boa tarde e boa noite.\")\n",
    "    \n",
    "pessoa_01 = Pessoa('Gustavo', 22, 'Programador')\n",
    "pessoa_02 = Pessoa('Gabriela', 28, 'Vendedor')\n",
    "pessoa_03 = Pessoa('Marcos', 34, 'Pedreiro')\n",
    "\n",
    "print(pessoa_01)\n",
    "print(pessoa_02)\n",
    "print(pessoa_03)\n",
    "\n",
    "pessoa_01.aniversario()\n",
    "\n",
    "pessoa_01.saudacao\n",
    "pessoa_02.saudacao\n",
    "pessoa_03.saudacao\n"
   ]
  },
  {
   "cell_type": "markdown",
   "metadata": {},
   "source": [
    "38 - \n",
    "Crie uma classe chamada ContaBancaria com um construtor que aceita os parâmetros titular e saldo. Inicie o atributo ativo como False por padrão.\n",
    "\n",
    "Na classe ContaBancaria, adicione um método especial __str__ que retorna uma mensagem formatada com o titular e o saldo da conta. Crie duas instâncias da classe e imprima essas instâncias.\n",
    "\n",
    "Adicione um método de classe chamado ativar_conta à classe ContaBancaria que define o atributo ativo como True. Crie uma instância da classe, chame o método de classe e imprima o valor de ativo.\n",
    "\n",
    "Refatore a classe ContaBancaria para utilizar a abordagem \"pythonica\" na criação de atributos. Utilize propriedades, se necessário.\n",
    "\n",
    "Crie uma instância da classe e imprima o valor da propriedade titular.\n",
    "\n",
    "Crie uma classe chamada ClienteBanco com um construtor que aceita 5 atributos. Instancie 3 objetos desta classe e atribua valores aos seus atributos através do método construtor.\n",
    "\n",
    "Crie um método de classe para a conta ClienteBanco."
   ]
  },
  {
   "cell_type": "code",
   "execution_count": 71,
   "metadata": {},
   "outputs": [
    {
     "name": "stdout",
     "output_type": "stream",
     "text": [
      "A conta do(a) Marcos Rocha foi ativada!\n",
      "Cliente: Melissa         CPF: 12345678900     Data de nascimento: 01/01/2000      Email: melissatorres@gmail.com\n",
      "Cliente: Silvio          CPF: 98765432100     Data de nascimento: 14/03/1995      Email: Silviopereira@gmail.com\n",
      "Cliente: João            CPF: 12378945600     Data de nascimento: 23/11/1998      Email: joaodesouza@gmail.com\n",
      "Cliente: Melissa Torres  CPF: 12345678900     Data de nascimento: 01/01/2000      Email: melissatorres@gmail.com\n",
      "Cliente: Silvio Pereira  CPF: 98765432100     Data de nascimento: 14/03/1995      Email: Silviopereira@gmail.com\n",
      "Cliente: João De Souza   CPF: 12378945600     Data de nascimento: 23/11/1998      Email: joaodesouza@gmail.com\n"
     ]
    }
   ],
   "source": [
    "class ContaBancaria:\n",
    "    def __init__(self, titular, saldo, ativo = False):\n",
    "        self._titular = titular\n",
    "        self._saldo = saldo\n",
    "        self._ativo = ativo\n",
    "\n",
    "    #def __str__(self):\n",
    "    #    return f'Cliente: {self._titular} Saldo: {self._saldo}'\n",
    "    \n",
    "    def ativar_conta(self):\n",
    "        self._ativo = not self._ativo\n",
    "        print(f'A conta do(a) {self._titular} foi ativada!' if self._ativo else f'A conta do(a) {self._titular} foi desativada.')\n",
    "\n",
    "    @property\n",
    "    def titular(self):\n",
    "        return self._titular\n",
    "    \n",
    "    def saldo(self):\n",
    "        return self._saldo\n",
    "    \n",
    "    def estado(self):\n",
    "        return f'Conta ativada' if self._ativo else f'Conta desativada'\n",
    "\n",
    "class ClienteBanco:\n",
    "    def __init__(self, nome, cpf, data_nascimento, email, ativo = False):\n",
    "        self._nome = nome\n",
    "        self._cpf = cpf\n",
    "        self._data_nascimento = data_nascimento\n",
    "        self._email = email\n",
    "        self._ativo = ativo\n",
    "\n",
    "    def __str__(self):\n",
    "        return f'Cliente: {self._nome.ljust(15)} CPF: {self._cpf.ljust(15)} Data de nascimento: {self._data_nascimento.ljust(15)} Email: {self._email}'\n",
    "    \n",
    "    def atualizar_cadastro(self):\n",
    "        cadastro = input('Qual cadastro você gostaria de atualizar? Nome, cpf, data de nascimento ou o email? ')\n",
    "        cadastro = cadastro.upper()\n",
    "        if cadastro == \"NOME\":\n",
    "            novo_nome = input('Digite o novo nome: ')\n",
    "            novo_nome = novo_nome.title()\n",
    "            self._nome = novo_nome\n",
    "        elif cadastro == \"CPF\":\n",
    "            novo_cpf = input('Digite o novo CPF: ')\n",
    "            self._cpf = novo_cpf\n",
    "        elif cadastro == \"EMAIL\":\n",
    "            novo_email = input('Digite o novo email: ')\n",
    "            novo_email = novo_email.lower()\n",
    "            self._email = novo_email\n",
    "        elif cadastro == \"DATA DE NASCIMENTO\":\n",
    "            nova_data_de_nascimento = input('Digite a nova data de nascimento: ')\n",
    "            self._data_nascimento = nova_data_de_nascimento\n",
    "        else:\n",
    "            print('Você digitou uma opção inválida')\n",
    "\n",
    "\n",
    "pessoa_01 = ContaBancaria('Marcos Rocha', 1200)\n",
    "pessoa_02 = ContaBancaria('Marcio Ribeiro', 500)\n",
    "\n",
    "#print(pessoa_01)\n",
    "#print(pessoa_02)\n",
    "pessoa_01.ativar_conta()\n",
    "pessoa_02.titular\n",
    "\n",
    "pessoa_03 = ClienteBanco('Melissa', '12345678900', '01/01/2000', 'melissatorres@gmail.com')\n",
    "pessoa_04 = ClienteBanco('Silvio', '98765432100', '14/03/1995', 'Silviopereira@gmail.com')\n",
    "pessoa_05 = ClienteBanco('João', '12378945600', '23/11/1998', 'joaodesouza@gmail.com')\n",
    "\n",
    "print(pessoa_03)\n",
    "print(pessoa_04)\n",
    "print(pessoa_05)\n",
    "\n",
    "pessoa_03.atualizar_cadastro()\n",
    "pessoa_04.atualizar_cadastro()\n",
    "pessoa_05.atualizar_cadastro()\n",
    "\n",
    "print(pessoa_03)\n",
    "print(pessoa_04)\n",
    "print(pessoa_05)"
   ]
  }
 ],
 "metadata": {
  "kernelspec": {
   "display_name": "Python 3",
   "language": "python",
   "name": "python3"
  },
  "language_info": {
   "codemirror_mode": {
    "name": "ipython",
    "version": 3
   },
   "file_extension": ".py",
   "mimetype": "text/x-python",
   "name": "python",
   "nbconvert_exporter": "python",
   "pygments_lexer": "ipython3",
   "version": "3.11.8"
  },
  "orig_nbformat": 4
 },
 "nbformat": 4,
 "nbformat_minor": 2
}
